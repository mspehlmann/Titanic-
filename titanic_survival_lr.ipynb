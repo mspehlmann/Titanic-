{
 "cells": [
  {
   "cell_type": "code",
   "execution_count": 53,
   "metadata": {},
   "outputs": [
    {
     "name": "stdout",
     "output_type": "stream",
     "text": [
      "True\n",
      "['passengerid', 'age', 'fare', 'sex', 'sibsp', 'parch', 'class', 'embarked', 'survived']\n"
     ]
    },
    {
     "data": {
      "image/png": "[encoded data removed]",
      "text/plain": [
       "<Figure size 432x288 with 1 Axes>"
      ]
     },
     "metadata": {
      "needs_background": "light"
     },
     "output_type": "display_data"
    }
   ],
   "source": [
    "import pandas as pd\n",
    "import matplotlib as plt\n",
    "import seaborn as sns\n",
    "import numpy as np\n",
    "from scipy.stats import zscore\n",
    "\n",
    "rough_df = pd.read_csv('titanic.csv')\n",
    "\n",
    "rough_df.rename(columns={'2urvived': 'survived', 'Embarked': 'embarked', 'Pclass': 'class', 'Parch':'parch', 'Sex':'sex', 'Fare':'fare', 'Age': 'age', 'Passengerid': 'passengerid'}, inplace=True)\n",
    "rough_df = rough_df[rough_df.columns.drop(list(rough_df.filter(regex='zero(\\.)?(\\d*)?')))]\n",
    "headers = rough_df.columns.to_list()\n",
    "rough_df['sex'].map({'male':0, 'female':1})\n",
    "sns.kdeplot(data=rough_df, x='age')\n",
    "sns.countplot(x='embarked', hue='sex', data=rough_df)\n",
    "\n",
    "rough_df['age'].fillna(value=np.mean(rough_df.age), inplace=True)\n",
    "rough_df['first'] = rough_df['class'].apply(lambda x: 1 if x == 1 else 0)\n",
    "rough_df['second'] = rough_df['class'].apply(lambda x: 1 if x == 2 else 0)\n",
    "rough_df['third'] = rough_df['class'].apply(lambda x: 1 if x == 3 else 0)\n",
    "\n",
    "#print(rough_df.head())\n",
    "print(rough_df['embarked'].isna().values.any())\n",
    "print(headers)\n",
    "#print(np.mean(rough_df['age']))\n",
    "\n"
   ]
  },
  {
   "cell_type": "code",
   "execution_count": 42,
   "metadata": {},
   "outputs": [
    {
     "name": "stdout",
     "output_type": "stream",
     "text": [
      "False\n"
     ]
    }
   ],
   "source": [
    "from sklearn.model_selection import train_test_split\n",
    "from sklearn.preprocessing import StandardScaler\n",
    "\n",
    "features = rough_df[['age', 'first', 'second', 'third', 'sex',]].copy()\n",
    "features.dropna(axis=0, how='any', inplace=True)\n",
    "print(features.isna().values.any())\n",
    "label = rough_df[['survived']].copy()\n",
    "\n",
    "X_train, X_test, y_train, y_test = train_test_split(features, label, test_size=0.2)\n",
    "scaler = StandardScaler()\n",
    "\n",
    "X_train_norm = scaler.fit_transform(X_train)\n",
    "y_train_norm = scaler.fit_transform(y_train)\n",
    "\n",
    "\n"
   ]
  },
  {
   "cell_type": "code",
   "execution_count": 44,
   "metadata": {},
   "outputs": [
    {
     "name": "stdout",
     "output_type": "stream",
     "text": [
      "[('age', -0.02244731144222467), ('first', 0.6958107829453939), ('second', 0.011025360823137511), ('third', -0.7071286299474927), ('sex', 1.9311293297530228)]\n"
     ]
    },
    {
     "name": "stderr",
     "output_type": "stream",
     "text": [
      "/Users/michaelspehlmann/opt/anaconda3/envs/travel_delays/lib/python3.8/site-packages/sklearn/utils/validation.py:985: DataConversionWarning: A column-vector y was passed when a 1d array was expected. Please change the shape of y to (n_samples, ), for example using ravel().\n",
      "  y = column_or_1d(y, warn=True)\n"
     ]
    }
   ],
   "source": [
    "from sklearn.linear_model import LogisticRegression\n",
    "\n",
    "model = LogisticRegression()\n",
    "model.fit(X_train, y_train)\n",
    "model.score(X_train, y_train)\n",
    "model.score(X_test, y_test)\n",
    "print(list(zip(['age', 'first', 'second', 'third', 'sex'],model.coef_[0])))"
   ]
  },
  {
   "cell_type": "code",
   "execution_count": 52,
   "metadata": {},
   "outputs": [
    {
     "name": "stderr",
     "output_type": "stream",
     "text": [
      "/Users/michaelspehlmann/opt/anaconda3/envs/travel_delays/lib/python3.8/site-packages/sklearn/base.py:445: UserWarning: X does not have valid feature names, but LogisticRegression was fitted with feature names\n",
      "  warnings.warn(\n",
      "/Users/michaelspehlmann/opt/anaconda3/envs/travel_delays/lib/python3.8/site-packages/sklearn/base.py:445: UserWarning: X does not have valid feature names, but LogisticRegression was fitted with feature names\n",
      "  warnings.warn(\n"
     ]
    },
    {
     "data": {
      "text/plain": [
       "array([[0.89025182, 0.10974818],\n",
       "       [0.29010282, 0.70989718],\n",
       "       [0.89413621, 0.10586379]])"
      ]
     },
     "execution_count": 52,
     "metadata": {},
     "output_type": "execute_result"
    }
   ],
   "source": [
    "jack = np.array([20, 0.0, 0.0, 1.0, 0.0])\n",
    "rose = np.array([17.0, 1.0, 0.0, 0.0, 0.0])\n",
    "me = np.array([30, 0.0, 0.0, 1.0, 0.0])\n",
    "fun = np.array([jack, rose, me])\n",
    "fun_scaled = scaler.fit_transform(fun)\n",
    "model.predict(fun_scaled)\n",
    "model.predict_proba(fun_scaled)\n"
   ]
  }
 ],
 "metadata": {
  "interpreter": {
   "hash": "3adb6bf31874c3eea8637065d2cd45c974b2998567b7210ab7e10166fee77e7f"
  },
  "kernelspec": {
   "display_name": "Python 3.8.12 64-bit ('travel_delays': conda)",
   "language": "python",
   "name": "python3"
  },
  "language_info": {
   "codemirror_mode": {
    "name": "ipython",
    "version": 3
   },
   "file_extension": ".py",
   "mimetype": "text/x-python",
   "name": "python",
   "nbconvert_exporter": "python",
   "pygments_lexer": "ipython3",
   "version": "3.8.12"
  },
  "orig_nbformat": 4
 },
 "nbformat": 4,
 "nbformat_minor": 2
}
